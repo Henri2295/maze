{
 "cells": [
  {
   "cell_type": "markdown",
   "metadata": {
    "collapsed": true
   },
   "source": [
    "# 8Puzle"
   ]
  },
  {
   "cell_type": "code",
   "execution_count": 124,
   "metadata": {
    "collapsed": true
   },
   "outputs": [],
   "source": [
    "import numpy as np\n",
    "from collections import deque\n",
    "from sklearn.metrics.pairwise import manhattan_distances"
   ]
  },
  {
   "cell_type": "code",
   "execution_count": 63,
   "metadata": {},
   "outputs": [
    {
     "name": "stdout",
     "output_type": "stream",
     "text": [
      "[[1 1 1 1 1 1 1]\n",
      " [1 3 0 0 0 0 1]\n",
      " [1 1 1 0 0 0 1]\n",
      " [1 0 0 1 0 0 1]\n",
      " [1 1 1 1 1 1 1]]\n",
      "s_f\n",
      " [[1 1 1 1 1 1 1]\n",
      " [1 0 0 0 0 0 1]\n",
      " [1 1 1 0 0 0 1]\n",
      " [1 0 0 1 0 3 1]\n",
      " [1 1 1 1 1 1 1]]\n"
     ]
    }
   ],
   "source": [
    "s_i = np.array([[1,1,1,1,1,1,1],[1,3,0,0,0,0,1],[1,1,1,0,0,0,1],[1,0,0,1,0,0,1],[1,1,1,1,1,1,1]])\n",
    "print( s_i)\n",
    "\n",
    "s_f = np.array([[1,1,1,1,1,1,1],[1,0,0,0,0,0,1],[1,1,1,0,0,0,1],[1,0,0,1,0,3,1],[1,1,1,1,1,1,1]])\n",
    "print('s_f\\n', s_f)\n",
    "\n"
   ]
  },
  {
   "cell_type": "code",
   "execution_count": 3,
   "metadata": {
    "collapsed": true
   },
   "outputs": [],
   "source": [
    "def possible_actions(s):\n",
    "    x = np.argwhere(s == 3)\n",
    "    #print(s==3)\n",
    "    \"\"\"\n",
    "    #print(x[0,0]+1, x[0,1])\n",
    "    print(s_i[x[0,0]+1, x[0,1]])\n",
    "    #print(s_i[x])\n",
    "    y = np.argwhere(s_i == 1)\n",
    "    print(s_i ==1)\n",
    "    #print(y , type(y))\n",
    "    #print(s_i[1,1])\n",
    "    \n",
    "    if s_i[x[0,0]+1, x[0,1]] != 1 :\n",
    "        print(\"down\")\n",
    "    \"\"\"\n",
    "                                    \n",
    "    \n",
    "    actions = []\n",
    "    if s_i[x[0,0]-1, x[0,1]] != 1 :\n",
    "        actions.append('up')\n",
    "    if s_i[x[0,0]+1, x[0,1]] != 1 :\n",
    "        actions.append('down')\n",
    "    if s_i[x[0,0], x[0,1]+1] != 1  :\n",
    "        actions.append('right')\n",
    "    if s_i[x[0,0], x[0,1]-1] != 1  :\n",
    "        actions.append('left')\n",
    "       \n",
    "    return actions\n",
    "    "
   ]
  },
  {
   "cell_type": "code",
   "execution_count": null,
   "metadata": {
    "collapsed": true
   },
   "outputs": [],
   "source": [
    "possible_actions(s_i)\n"
   ]
  },
  {
   "cell_type": "code",
   "execution_count": 4,
   "metadata": {
    "collapsed": true
   },
   "outputs": [],
   "source": [
    "def new_state(s,a):\n",
    "    x = np.argwhere(s == 3)\n",
    "    s_out = s.copy()\n",
    "    if a == 'up':\n",
    "        #s_out[x[0,0], x[0,1]] = s_out[x[0,0]-1, x[0,1]]\n",
    "        s_out[x[0,0], x[0,1]] = 0\n",
    "        s_out[x[0,0]-1, x[0,1]]=3\n",
    "    if a == 'down':\n",
    "        #s_out[x[0,0], x[0,1]] = s_out[x[0,0]+1, x[0,1]]\n",
    "        s_out[x[0,0], x[0,1]] = 0\n",
    "        s_out[x[0,0]+1, x[0,1]]=3\n",
    "    if a == 'right':\n",
    "        #s_out[x[0,0], x[0,1]] = s_out[x[0,0], x[0,1]+1]\n",
    "        s_out[x[0,0], x[0,1]] = 0\n",
    "        s_out[x[0,0], x[0,1]+1] = 3\n",
    "    if a == 'left':\n",
    "        #s_out[x[0,0], x[0,1]] = s_out[x[0,0], x[0,1]-1]\n",
    "        s_out[x[0,0], x[0,1]] = 0\n",
    "        s_out[x[0,0], x[0,1]-1] = 3\n",
    "    return s_out"
   ]
  },
  {
   "cell_type": "code",
   "execution_count": null,
   "metadata": {
    "collapsed": true
   },
   "outputs": [],
   "source": [
    "print(s_i)\n",
    "new_state(s_i, 'left')"
   ]
  },
  {
   "cell_type": "code",
   "execution_count": 148,
   "metadata": {},
   "outputs": [],
   "source": [
    "def manhattan (d ,distance):\n",
    "    distance_initial = np.argwhere(d == 3)\n",
    "    distance_goal = np.argwhere(s_f == 3)\n",
    "    ss_out = d.copy()  \n",
    "    if distance == 'righ':\n",
    "        ss_out[distance_initial[0,0], distance_initial[0,1]]=0\n",
    "        ss_out[distance_initial[0,0], distance_initial[0,1]+1] =3\n",
    "        position_ss_out = np.argwhere(ss_out == 3)\n",
    "        print(position_ss_out)\n",
    "        print(distance_goal)\n",
    "    manhattan_distances(position_ss_out, distance_goal)\n",
    "    \n",
    "        \n",
    "    \n",
    "  "
   ]
  },
  {
   "cell_type": "code",
   "execution_count": 149,
   "metadata": {},
   "outputs": [
    {
     "name": "stdout",
     "output_type": "stream",
     "text": [
      "[[1 2]]\n",
      "[[3 5]]\n"
     ]
    }
   ],
   "source": [
    "manhattan(s_i,'righ')\n"
   ]
  },
  {
   "cell_type": "markdown",
   "metadata": {
    "collapsed": true
   },
   "source": [
    "def is_child_in_explored(child, explorado):\n",
    "    for state in explorado: \n",
    "        if (np.array_equal(child,state)==True):\n",
    "            return True\n",
    "    return False  "
   ]
  },
  {
   "cell_type": "code",
   "execution_count": 6,
   "metadata": {
    "collapsed": true
   },
   "outputs": [],
   "source": [
    "def is_child_in_frontier(child,fronter): ##si el nuño esta en la frontera\n",
    "    for node in fronter:\n",
    "        if (np.array_equal(child,node.state)==True):\n",
    "            return True\n",
    "    return False"
   ]
  },
  {
   "cell_type": "code",
   "execution_count": 7,
   "metadata": {
    "collapsed": true
   },
   "outputs": [],
   "source": [
    "def cost_action(action):\n",
    "    if (action == 'down'):\n",
    "        cost = 1\n",
    "        return cost\n",
    "    if (action == 'up'):\n",
    "        cost = 1\n",
    "        return cost\n",
    "    if (action == 'right'):\n",
    "        cost = 5\n",
    "        return cost\n",
    "    if (action == 'left'):\n",
    "        cost = 1\n",
    "        return cost"
   ]
  },
  {
   "cell_type": "code",
   "execution_count": 40,
   "metadata": {},
   "outputs": [],
   "source": [
    "class Node(): \n",
    "    def __init__(self, dad ,state, action, cost=None, dist_action= None):\n",
    "        self.dad = dad #atributos clase\n",
    "        self.state = state\n",
    "        self.action = action\n",
    "        self.cost = cost\n",
    "        self.dist_action = dist_action\n",
    "    def __lt__(self, other):\n",
    "        return self.cost.__lt__(other.cost)\n",
    "    def __gt__(self, other):\n",
    "        return self.cost.__gt__(other.cost)\n",
    "    def __eq__(self, other):\n",
    "        return self.cost.__eq__(other.cost)"
   ]
  },
  {
   "cell_type": "code",
   "execution_count": 28,
   "metadata": {
    "collapsed": true
   },
   "outputs": [],
   "source": [
    "def bfs():\n",
    "    node_1 = Node(None,s_i, None)\n",
    "       \n",
    "    fronter = deque()\n",
    "    fronter.append(node_1)\n",
    "    \n",
    "    explorado = []\n",
    "    final_child = None\n",
    "   \n",
    "    while(True): \n",
    "        if len(fronter)==0: #conjunto de la frontera Vacia.\n",
    "            print('failure')\n",
    "            break\n",
    "    \n",
    "        else:\n",
    "            node_1 = fronter.popleft() #FIFO nodo mas superficial de la frontera.\n",
    "            explorado.append(node_1.state) #agregar el nodo de explorado a los explorados.\n",
    "        solution =False    \n",
    "        for action in possible_actions(node_1.state):\n",
    "            child = Node(node_1, new_state(node_1.state, action), action)\n",
    "            \n",
    "            if (is_child_in_explored(child.state, explorado)==False and is_child_in_frontier(child.state,fronter)==False):\n",
    "                if (np.array_equal(child.state,s_f)==True):\n",
    "                    print(\"solucion encontrada\")\n",
    "                    solution = True\n",
    "                    final_child = child\n",
    "                    break\n",
    "                fronter.append(child)\n",
    "        if (solution == True):\n",
    "            break\n",
    "   \n",
    "    \n",
    "    print(\"pasos\")   \n",
    "    node_aux = final_child\n",
    "    sol_actions  = []\n",
    "    while(node_aux.action != None):\n",
    "        sol_actions.append(node_aux.action)\n",
    "        node_aux = node_aux.dad\n",
    "        \n",
    "    return print(list(reversed(sol_actions)))"
   ]
  },
  {
   "cell_type": "code",
   "execution_count": 29,
   "metadata": {},
   "outputs": [
    {
     "name": "stdout",
     "output_type": "stream",
     "text": [
      "solucion encontrada\n",
      "pasos\n",
      "['right', 'right', 'down', 'right', 'down', 'right']\n"
     ]
    }
   ],
   "source": [
    "bfs()"
   ]
  },
  {
   "cell_type": "code",
   "execution_count": 30,
   "metadata": {
    "collapsed": true
   },
   "outputs": [],
   "source": [
    "def dfs():\n",
    "    node_1 = Node(None,s_i, None)\n",
    "       \n",
    "    fronter = deque()\n",
    "    fronter.appendleft(node_1)\n",
    "    \n",
    "    explorado = []\n",
    "    final_child = None\n",
    "   \n",
    "    while(True): \n",
    "        if len(fronter)==0: #conjunto de la frontera Vacia.\n",
    "            print('failure')\n",
    "            break\n",
    "    \n",
    "        else:\n",
    "            node_1 = fronter.popleft() #FIFO nodo mas superficial de la frontera.\n",
    "            explorado.append(node_1.state) #agregar el nodo de explorado a los explorados.\n",
    "        solution =False    \n",
    "        for action in possible_actions(node_1.state):\n",
    "            child = Node(node_1, new_state(node_1.state, action), action)\n",
    "            \n",
    "            if (is_child_in_explored(child.state, explorado)==False and is_child_in_frontier(child.state,fronter)==False):\n",
    "                if (np.array_equal(child.state,s_f)==True):\n",
    "                    solution = True\n",
    "                    final_child = child\n",
    "                    break\n",
    "                fronter.appendleft(child)\n",
    "        if (solution == True):\n",
    "            break\n",
    "   \n",
    "    \n",
    "       \n",
    "    node_aux = final_child\n",
    "    sol_actions  = []\n",
    "    while(node_aux.action != None):\n",
    "        sol_actions.append(node_aux.action)\n",
    "        node_aux = node_aux.dad\n",
    "        \n",
    "    return print(list(reversed(sol_actions)))"
   ]
  },
  {
   "cell_type": "code",
   "execution_count": 31,
   "metadata": {},
   "outputs": [
    {
     "name": "stdout",
     "output_type": "stream",
     "text": [
      "['right', 'right', 'right', 'right', 'down', 'down']\n"
     ]
    }
   ],
   "source": [
    "dfs()"
   ]
  },
  {
   "cell_type": "code",
   "execution_count": 32,
   "metadata": {
    "collapsed": true
   },
   "outputs": [],
   "source": [
    "def ucs():\n",
    "    node_1 = Node(None,s_i, None, None)\n",
    "       \n",
    "    fronter = []\n",
    "    fronter.append(node_1)\n",
    "    \n",
    "    explorado = []\n",
    "    final_child = None\n",
    "   \n",
    "    while(True): \n",
    "        if len(fronter)==0: #conjunto de la frontera Vacia.\n",
    "            print('failure')\n",
    "            break\n",
    "    \n",
    "        else:\n",
    "            node_1 = fronter.pop(0)\n",
    "            explorado.append(node_1.state) #agregar el nodo de explorado a los explorados.\n",
    "        solution =False    \n",
    "        for action in possible_actions(node_1.state):\n",
    "            child = Node(node_1, new_state(node_1.state, action), action, cost_action(action))\n",
    "            \n",
    "            if (is_child_in_explored(child.state, explorado)==False and is_child_in_frontier(child.state,fronter)==False):\n",
    "                if (np.array_equal(child.state,s_f)==True):\n",
    "                    solution = True\n",
    "                    final_child = child\n",
    "                    break\n",
    "                fronter.append(child)\n",
    "        fronter= sorted(fronter)\n",
    "        \n",
    "        if (solution == True):\n",
    "            break\n",
    "   \n",
    "    \n",
    "       \n",
    "    node_aux = final_child\n",
    "    sol_actions  = []\n",
    "    while(node_aux.action != None):\n",
    "        sol_actions.append(node_aux.action)\n",
    "        node_aux = node_aux.dad\n",
    "        \n",
    "    return print(list(reversed(sol_actions)))"
   ]
  },
  {
   "cell_type": "code",
   "execution_count": 33,
   "metadata": {},
   "outputs": [
    {
     "name": "stdout",
     "output_type": "stream",
     "text": [
      "['right', 'right', 'down', 'right', 'down', 'right']\n"
     ]
    }
   ],
   "source": [
    "ucs()"
   ]
  },
  {
   "cell_type": "code",
   "execution_count": 18,
   "metadata": {},
   "outputs": [
    {
     "name": "stdout",
     "output_type": "stream",
     "text": [
      "[[1 1]] [[3 5]]\n"
     ]
    },
    {
     "data": {
      "text/plain": [
       "array([[ 6.]])"
      ]
     },
     "execution_count": 18,
     "metadata": {},
     "output_type": "execute_result"
    }
   ],
   "source": [
    "from sklearn.metrics.pairwise import manhattan_distances\n",
    "x = np.argwhere(s_i == 3)\n",
    "y = np.argwhere(s_f ==3)\n",
    "print(x,y)\n",
    "manhattan_distances(x, y)\n"
   ]
  },
  {
   "cell_type": "code",
   "execution_count": null,
   "metadata": {
    "collapsed": true
   },
   "outputs": [],
   "source": []
  },
  {
   "cell_type": "code",
   "execution_count": 50,
   "metadata": {},
   "outputs": [],
   "source": [
    "def greddy():\n",
    "    node_1 = Node(None,s_i, None, None)\n",
    "       \n",
    "    fronter = []\n",
    "    fronter.append(node_1)\n",
    "    \n",
    "    explorado = []\n",
    "    final_child = None\n",
    "    \n",
    "    while(True): \n",
    "        if len(fronter)==0: #conjunto de la frontera Vacia.\n",
    "            print('failure')\n",
    "            break\n",
    "    \n",
    "        else:\n",
    "            node_1 = fronter.pop(0)\n",
    "            explorado.append(node_1.state) #agregar el nodo de explorado a los explorados.\n",
    "        solution =False    \n",
    "        for action in possible_actions(node_1.state):\n",
    "            child = Node(node_1, new_state(node_1.state, action), action, cost_action(action), manhattan)\n",
    "            \n",
    "            if (is_child_in_explored(child.state, explorado)==False and is_child_in_frontier(child.state,fronter)==False):\n",
    "                if (np.array_equal(child.state,s_f)==True):\n",
    "                    solution = True\n",
    "                    final_child = child\n",
    "                    break\n",
    "                fronter.append(child)\n",
    "                \n",
    "        print(distancia)        \n",
    "        fronter= sorted(fronter)\n",
    "        \n",
    "        if (solution == True):\n",
    "            break\n",
    "   \n",
    "    \n",
    "       \n",
    "    node_aux = final_child\n",
    "    sol_actions  = []\n",
    "    while(node_aux.action != None):\n",
    "        sol_actions.append(node_aux.action)\n",
    "        node_aux = node_aux.dad\n",
    "        \n",
    "    return print(list(reversed(sol_actions)))"
   ]
  },
  {
   "cell_type": "code",
   "execution_count": 51,
   "metadata": {},
   "outputs": [
    {
     "name": "stdout",
     "output_type": "stream",
     "text": [
      "0\n",
      "0\n",
      "0\n",
      "0\n",
      "0\n",
      "0\n",
      "0\n",
      "['right', 'right', 'down', 'right', 'down', 'right']\n"
     ]
    }
   ],
   "source": [
    "greddy()"
   ]
  },
  {
   "cell_type": "code",
   "execution_count": null,
   "metadata": {
    "collapsed": true
   },
   "outputs": [],
   "source": []
  }
 ],
 "metadata": {
  "kernelspec": {
   "display_name": "Python 3",
   "language": "python",
   "name": "python3"
  },
  "language_info": {
   "codemirror_mode": {
    "name": "ipython",
    "version": 3
   },
   "file_extension": ".py",
   "mimetype": "text/x-python",
   "name": "python",
   "nbconvert_exporter": "python",
   "pygments_lexer": "ipython3",
   "version": "3.6.2"
  }
 },
 "nbformat": 4,
 "nbformat_minor": 2
}
